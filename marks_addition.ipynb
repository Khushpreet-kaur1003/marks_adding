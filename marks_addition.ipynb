{
  "nbformat": 4,
  "nbformat_minor": 0,
  "metadata": {
    "colab": {
      "provenance": [],
      "authorship_tag": "ABX9TyN9dMwgts0t0zZ0HC0CIA2C",
      "include_colab_link": true
    },
    "kernelspec": {
      "name": "python3",
      "display_name": "Python 3"
    },
    "language_info": {
      "name": "python"
    }
  },
  "cells": [
    {
      "cell_type": "markdown",
      "metadata": {
        "id": "view-in-github",
        "colab_type": "text"
      },
      "source": [
        "<a href=\"https://colab.research.google.com/github/Khushpreet-kaur1003/marks_adding/blob/main/marks_addition.ipynb\" target=\"_parent\"><img src=\"https://colab.research.google.com/assets/colab-badge.svg\" alt=\"Open In Colab\"/></a>"
      ]
    },
    {
      "cell_type": "code",
      "execution_count": 2,
      "metadata": {
        "colab": {
          "base_uri": "https://localhost:8080/"
        },
        "id": "wqut9gr6YSvF",
        "outputId": "bb1489c6-b931-47a0-8ded-ae5e5007d5dc"
      },
      "outputs": [
        {
          "output_type": "stream",
          "name": "stdout",
          "text": [
            "Marks have been summed and written to 'Marks_Sum.csv'\n"
          ]
        }
      ],
      "source": [
        "import pandas as pd\n",
        "import numpy as np\n",
        "import csv\n",
        "def read_csv_as_dataframe(filename):\n",
        "  df=pd.read_csv(filename)\n",
        "  return df\n",
        "filename=\"/content/Mini Project - Marks Adding (2).csv\"\n",
        "df=read_csv_as_dataframe(filename)\n",
        "\n",
        "marks_sum = df.groupby('Roll Num')['Marks'].sum().reset_index()\n",
        "marks_sum.to_csv('Marks_Sum.csv', index=False)\n",
        "print(\"Marks have been summed and written to 'Marks_Sum.csv'\")\n",
        "\n",
        "\n",
        "\n"
      ]
    },
    {
      "cell_type": "code",
      "source": [],
      "metadata": {
        "id": "2mehVekgZmbk"
      },
      "execution_count": null,
      "outputs": []
    }
  ]
}